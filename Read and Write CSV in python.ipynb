{
 "cells": [
  {
   "cell_type": "markdown",
   "id": "guilty-homework",
   "metadata": {},
   "source": [
    "## Reading from CSV file"
   ]
  },
  {
   "cell_type": "markdown",
   "id": "speaking-nicaragua",
   "metadata": {},
   "source": [
    "Python contains a module called csv for the handling of CSV files. The reader class from the module is used for reading data from a CSV file. At first, the CSV file is opened using the open() method in ‘r’ mode(specifies read mode while opening a file) which returns the file object then it is read by using the reader() method of CSV module that returns the reader object that iterates throughout the lines in the specified CSV document."
   ]
  },
  {
   "cell_type": "markdown",
   "id": "amended-constitution",
   "metadata": {},
   "source": [
    "### Syntax:\n",
    "\n",
    "csv.reader(csvfile, dialect='excel', **fmtparams"
   ]
  },
  {
   "cell_type": "markdown",
   "id": "polish-nancy",
   "metadata": {},
   "source": [
    "The ‘with‘ keyword is used along with the open() method as it simplifies exception handling and automatically closes the CSV file."
   ]
  },
  {
   "cell_type": "markdown",
   "id": "sensitive-snake",
   "metadata": {},
   "source": []
  },
  {
   "cell_type": "code",
   "execution_count": null,
   "id": "round-decimal",
   "metadata": {},
   "outputs": [],
   "source": [
    "import csv\n",
    "\t\n",
    "# opening the CSV file\n",
    "with open('Giants.csv', mode ='r')as file:\n",
    "\t\n",
    "# reading the CSV file\n",
    "csvFile = csv.reader(file)\n",
    "\t\n",
    "# displaying the contents of the CSV file\n",
    "for lines in csvFile:\n",
    "\t\tprint(lines)"
   ]
  },
  {
   "cell_type": "code",
   "execution_count": null,
   "id": "documented-operation",
   "metadata": {},
   "outputs": [],
   "source": []
  },
  {
   "cell_type": "markdown",
   "id": "fantastic-concentration",
   "metadata": {},
   "source": [
    "## Writing to CSV file"
   ]
  },
  {
   "cell_type": "markdown",
   "id": "sustainable-submission",
   "metadata": {},
   "source": [
    "csv.writer class is used to insert data to the CSV file. This class returns a writer object which is responsible for converting the user’s data into a delimited string. A CSV file object should be opened with newline=” otherwise, newline characters inside the quoted fields will not be interpreted correctly."
   ]
  },
  {
   "cell_type": "markdown",
   "id": "monthly-calgary",
   "metadata": {},
   "source": [
    "### Syntax:\n",
    "\n",
    "csv.writer(csvfile, dialect='excel', **fmtparams)"
   ]
  },
  {
   "cell_type": "markdown",
   "id": "contrary-owner",
   "metadata": {},
   "source": [
    "csv.writer class provides two methods for writing to CSV. They are writerow() and writerows().\n",
    "\n",
    "    writerow(): This method writes a single row at a time. Field row can be written using this method.\n",
    "    Syntax:\n",
    "\n",
    "    writerow(fields)\n",
    "\n",
    "    writerows(): This method is used to write multiple rows at a time. This can be used to write rows list.\n",
    "    Syntax:\n",
    "    \n",
    "    writerows(rows)"
   ]
  },
  {
   "cell_type": "code",
   "execution_count": null,
   "id": "mechanical-world",
   "metadata": {},
   "outputs": [],
   "source": [
    "# Python program to demonstrate\n",
    "# writing to CSV\n",
    "\n",
    "\n",
    "import csv\n",
    "\t\n",
    "# field names\n",
    "fields = ['Name', 'Branch', 'Year', 'CGPA']\n",
    "\t\n",
    "# data rows of csv file\n",
    "rows = [ ['Nikhil', 'COE', '2', '9.0'],\n",
    "\t\t['Sanchit', 'COE', '2', '9.1'],\n",
    "\t\t['Aditya', 'IT', '2', '9.3'],\n",
    "\t\t['Sagar', 'SE', '1', '9.5'],\n",
    "\t\t['Prateek', 'MCE', '3', '7.8'],\n",
    "\t\t['Sahil', 'EP', '2', '9.1']]\n",
    "\t\n",
    "# name of csv file\n",
    "filename = \"university_records.csv\"\n",
    "\t\n",
    "# writing to csv file\n",
    "with open(filename, 'w') as csvfile:\n",
    "\t# creating a csv writer object\n",
    "\tcsvwriter = csv.writer(csvfile)\n",
    "\t\t\n",
    "\t# writing the fields\n",
    "\tcsvwriter.writerow(fields)\n",
    "\t\t\n",
    "\t# writing the data rows\n",
    "\tcsvwriter.writerows(rows)"
   ]
  }
 ],
 "metadata": {
  "kernelspec": {
   "display_name": "Python 3",
   "language": "python",
   "name": "python3"
  },
  "language_info": {
   "codemirror_mode": {
    "name": "ipython",
    "version": 3
   },
   "file_extension": ".py",
   "mimetype": "text/x-python",
   "name": "python",
   "nbconvert_exporter": "python",
   "pygments_lexer": "ipython3",
   "version": "3.7.10"
  }
 },
 "nbformat": 4,
 "nbformat_minor": 5
}
