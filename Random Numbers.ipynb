{
 "cells": [
  {
   "cell_type": "markdown",
   "id": "other-japanese",
   "metadata": {},
   "source": [
    "# Random Numbers in Python"
   ]
  },
  {
   "cell_type": "markdown",
   "id": "derived-clear",
   "metadata": {},
   "source": [
    "Python defines a set of functions that are used to generate or manipulate random numbers through the random module. Functions in the random module rely on a pseudo-random number generator function random(), which generates a random float number between 0.0 and 1.0."
   ]
  },
  {
   "cell_type": "markdown",
   "id": "related-panic",
   "metadata": {},
   "source": [
    "## Random Number Operations\n",
    "\n",
    "#### 1. choice() :- \n",
    "\n",
    "      choice() is an inbuilt function in the Python programming language that returns a random item from a list, tuple, or string."
   ]
  },
  {
   "cell_type": "code",
   "execution_count": null,
   "id": "computational-victorian",
   "metadata": {},
   "outputs": [],
   "source": [
    "# Python3 program to demonstrate the use of\n",
    "# choice() method\n",
    "\n",
    "# import random\n",
    "import random\n",
    "\n",
    "# prints a random value from the list\n",
    "list1 = [1, 2, 3, 4, 5, 6]\n",
    "print(random.choice(list1))\n",
    "\n",
    "# prints a random item from the string\n",
    "string = \"striver\"\n",
    "print(random.choice(string))"
   ]
  },
  {
   "cell_type": "code",
   "execution_count": null,
   "id": "german-delhi",
   "metadata": {},
   "outputs": [],
   "source": []
  },
  {
   "cell_type": "markdown",
   "id": "large-peter",
   "metadata": {},
   "source": [
    "#### 2. randrange(beg, end, step):- \n",
    "\n",
    "    The random module offers a function that can generate random numbers from a specified range and also allowing rooms for steps to be included, called randrange()."
   ]
  },
  {
   "cell_type": "code",
   "execution_count": null,
   "id": "pediatric-apollo",
   "metadata": {},
   "outputs": [],
   "source": [
    "# Python code to demonstrate the working of\n",
    "# choice() and randrange()\n",
    "\n",
    "# importing \"random\" for random operations\n",
    "import random\n",
    "\n",
    "# using choice() to generate a random number from a\n",
    "# given list of numbers.\n",
    "print(\"A random number from list is : \", end=\"\")\n",
    "print(random.choice([1, 4, 8, 10, 3]))\n",
    "\n",
    "# using randrange() to generate in range from 20\n",
    "# to 50. The last parameter 3 is step size to skip\n",
    "# three numbers when selecting.\n",
    "print(\"A random number from range is : \", end=\"\")\n",
    "print(random.randrange(20, 50, 3))"
   ]
  },
  {
   "cell_type": "code",
   "execution_count": null,
   "id": "reported-trick",
   "metadata": {},
   "outputs": [],
   "source": []
  },
  {
   "cell_type": "markdown",
   "id": "amazing-eating",
   "metadata": {},
   "source": [
    "#### 3. random():-\n",
    "\n",
    "    This method is used to generate a float random number less than 1 and greater or equal to 0."
   ]
  },
  {
   "cell_type": "code",
   "execution_count": null,
   "id": "amino-plaza",
   "metadata": {},
   "outputs": [],
   "source": []
  }
 ],
 "metadata": {
  "kernelspec": {
   "display_name": "Python 3",
   "language": "python",
   "name": "python3"
  },
  "language_info": {
   "codemirror_mode": {
    "name": "ipython",
    "version": 3
   },
   "file_extension": ".py",
   "mimetype": "text/x-python",
   "name": "python",
   "nbconvert_exporter": "python",
   "pygments_lexer": "ipython3",
   "version": "3.7.10"
  }
 },
 "nbformat": 4,
 "nbformat_minor": 5
}
