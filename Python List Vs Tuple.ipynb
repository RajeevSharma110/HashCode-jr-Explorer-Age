{
 "cells": [
  {
   "cell_type": "markdown",
   "id": "under-northern",
   "metadata": {},
   "source": [
    "# Python List Vs Tuple"
   ]
  },
  {
   "cell_type": "markdown",
   "id": "physical-cathedral",
   "metadata": {},
   "source": [
    "Lists and Tuples are used to store one or more Python objects or data-types sequentially. Both can store any data such as integer, float, string, and dictionary. Lists and Tuples are similar in most factors but here we will describe the main difference between them"
   ]
  },
  {
   "cell_type": "markdown",
   "id": "manufactured-confidence",
   "metadata": {},
   "source": [
    "## Representation Differences"
   ]
  },
  {
   "cell_type": "markdown",
   "id": "minute-stocks",
   "metadata": {},
   "source": [
    "The representation of the Lists and tuple is marginally different. List are commonly enclosed with the square bracket [], and elements are comma-separated element. Tuples are enclosed with parenthesis (), and elements are separated by the comma. The parenthesis is optional to use, and these types of tuples are called tuple packing."
   ]
  },
  {
   "cell_type": "code",
   "execution_count": 1,
   "id": "silver-visibility",
   "metadata": {},
   "outputs": [
    {
     "name": "stdout",
     "output_type": "stream",
     "text": [
      "<class 'type'>\n",
      "<class 'tuple'>\n"
     ]
    }
   ],
   "source": [
    "    list1 = ['Hello World!', 1, 2, 54.30, {'Name: ''Peter'}]  \n",
    "    print(type(list))  \n",
    "    tuple1 = ('Hello World!',5,8,31.9,[1,2,3])  \n",
    "    print(type(tuple1))  "
   ]
  },
  {
   "cell_type": "markdown",
   "id": "yellow-sullivan",
   "metadata": {},
   "source": [
    "## Mutable Lists and Immutable Tuples"
   ]
  },
  {
   "cell_type": "markdown",
   "id": "cosmetic-conditions",
   "metadata": {},
   "source": [
    "It is the most important difference between list and tuple whereas lists are mutable, and tuples are immutable. The lists are mutable which means the Python object can be modified after creation, whereas tuples can't be modified after creation. Consider the given an example."
   ]
  },
  {
   "cell_type": "code",
   "execution_count": 2,
   "id": "conditional-assumption",
   "metadata": {},
   "outputs": [
    {
     "name": "stdout",
     "output_type": "stream",
     "text": [
      "['Peter', 'Joseph', 'Mathew', 'Ricky']\n"
     ]
    }
   ],
   "source": [
    "    a = [\"Peter\",\"Joseph\",\"Mathew\",\"Ricky\"]  \n",
    "    print(a)  "
   ]
  },
  {
   "cell_type": "markdown",
   "id": "framed-perspective",
   "metadata": {},
   "source": [
    "Now we are changing 0th index element \"Peter\" to \"Samson\"."
   ]
  },
  {
   "cell_type": "code",
   "execution_count": 3,
   "id": "interpreted-leadership",
   "metadata": {},
   "outputs": [
    {
     "name": "stdout",
     "output_type": "stream",
     "text": [
      "['Samson', 'Joseph', 'Mathew', 'Ricky']\n"
     ]
    }
   ],
   "source": [
    "    a[0] = \"Samson\"  \n",
    "    print(a)  "
   ]
  },
  {
   "cell_type": "markdown",
   "id": "organic-battlefield",
   "metadata": {},
   "source": [
    "Now we create a tuple and do the same thing"
   ]
  },
  {
   "cell_type": "code",
   "execution_count": 10,
   "id": "mineral-collector",
   "metadata": {},
   "outputs": [
    {
     "name": "stdout",
     "output_type": "stream",
     "text": [
      "(10, 20, 'Hello World!', 30, 40)\n"
     ]
    }
   ],
   "source": [
    "    a = (10,20,\"Hello World!\",30,40)  \n",
    "    print(a)  "
   ]
  },
  {
   "cell_type": "code",
   "execution_count": 6,
   "id": "decimal-washer",
   "metadata": {},
   "outputs": [
    {
     "ename": "TypeError",
     "evalue": "'tuple' object does not support item assignment",
     "output_type": "error",
     "traceback": [
      "\u001b[0;31m---------------------------------------------------------------------------\u001b[0m",
      "\u001b[0;31mTypeError\u001b[0m                                 Traceback (most recent call last)",
      "\u001b[0;32m<ipython-input-6-2143354fc192>\u001b[0m in \u001b[0;36m<module>\u001b[0;34m\u001b[0m\n\u001b[0;32m----> 1\u001b[0;31m \u001b[0ma\u001b[0m\u001b[0;34m[\u001b[0m\u001b[0;36m0\u001b[0m\u001b[0;34m]\u001b[0m \u001b[0;34m=\u001b[0m \u001b[0;36m50\u001b[0m\u001b[0;34m\u001b[0m\u001b[0;34m\u001b[0m\u001b[0m\n\u001b[0m",
      "\u001b[0;31mTypeError\u001b[0m: 'tuple' object does not support item assignment"
     ]
    }
   ],
   "source": [
    "    a[0] = 50  "
   ]
  },
  {
   "cell_type": "markdown",
   "id": "measured-attitude",
   "metadata": {},
   "source": [
    "We get an error while changing the 1st element of the tuple because of immutability. It does not support item assignment."
   ]
  },
  {
   "cell_type": "markdown",
   "id": "corporate-danger",
   "metadata": {},
   "source": [
    "## Debugging"
   ]
  },
  {
   "cell_type": "markdown",
   "id": "continent-vacation",
   "metadata": {},
   "source": [
    "The tuples are easy to debug in a big project because of its immutability. If we have a small project or less number of data, then lists play an effective role. Let's consider the following example"
   ]
  },
  {
   "cell_type": "code",
   "execution_count": 9,
   "id": "angry-munich",
   "metadata": {},
   "outputs": [
    {
     "name": "stdout",
     "output_type": "stream",
     "text": [
      "[6, 9, 4, 'Hello World!', 7, 0, 1]\n"
     ]
    }
   ],
   "source": [
    "    a = [6,9,4,3,7,0,1]  \n",
    "    # Copying address of a in b  \n",
    "    b = a  \n",
    "    a[3] = \"Hello World!\"  \n",
    "    print(a)  "
   ]
  },
  {
   "cell_type": "markdown",
   "id": "binary-progress",
   "metadata": {},
   "source": [
    "In the above code, we did b = a; here we are not copying the list object from b to a. The b referred to the address of the list a.  It means if we make the change in the b then that will reflect the same as in list a, and it makes debugging easy. But it is hard for the significant project where Python objects may have multiple reference"
   ]
  },
  {
   "cell_type": "markdown",
   "id": "reflected-jewel",
   "metadata": {},
   "source": [
    "It will be very complicated to track those changes in lists but immutable object tuple can't change after created.\n",
    "\n",
    "So tuples are easy to debug."
   ]
  },
  {
   "cell_type": "markdown",
   "id": "blocked-projection",
   "metadata": {},
   "source": [
    "## Functions Support"
   ]
  },
  {
   "cell_type": "markdown",
   "id": "documented-regulation",
   "metadata": {},
   "source": [
    "The tuples support less operation than the list. The inbuilt dir(object) is used to get all the supported functions for the list and tuple."
   ]
  },
  {
   "cell_type": "markdown",
   "id": "relevant-diamond",
   "metadata": {},
   "source": [
    "- List Functions"
   ]
  },
  {
   "cell_type": "code",
   "execution_count": 11,
   "id": "weekly-bundle",
   "metadata": {},
   "outputs": [
    {
     "data": {
      "text/plain": [
       "['__add__',\n",
       " '__class__',\n",
       " '__contains__',\n",
       " '__delattr__',\n",
       " '__delitem__',\n",
       " '__dir__',\n",
       " '__doc__',\n",
       " '__eq__',\n",
       " '__format__',\n",
       " '__ge__',\n",
       " '__getattribute__',\n",
       " '__getitem__',\n",
       " '__gt__',\n",
       " '__hash__',\n",
       " '__iadd__',\n",
       " '__imul__',\n",
       " '__init__',\n",
       " '__init_subclass__',\n",
       " '__iter__',\n",
       " '__le__',\n",
       " '__len__',\n",
       " '__lt__',\n",
       " '__mul__',\n",
       " '__ne__',\n",
       " '__new__',\n",
       " '__reduce__',\n",
       " '__reduce_ex__',\n",
       " '__repr__',\n",
       " '__reversed__',\n",
       " '__rmul__',\n",
       " '__setattr__',\n",
       " '__setitem__',\n",
       " '__sizeof__',\n",
       " '__str__',\n",
       " '__subclasshook__',\n",
       " 'append',\n",
       " 'clear',\n",
       " 'copy',\n",
       " 'count',\n",
       " 'extend',\n",
       " 'index',\n",
       " 'insert',\n",
       " 'pop',\n",
       " 'remove',\n",
       " 'reverse',\n",
       " 'sort']"
      ]
     },
     "execution_count": 11,
     "metadata": {},
     "output_type": "execute_result"
    }
   ],
   "source": [
    "dir(list)  "
   ]
  },
  {
   "cell_type": "markdown",
   "id": "medium-danish",
   "metadata": {},
   "source": [
    "- Tuple Functions"
   ]
  },
  {
   "cell_type": "code",
   "execution_count": 12,
   "id": "marked-syria",
   "metadata": {},
   "outputs": [
    {
     "data": {
      "text/plain": [
       "['__add__',\n",
       " '__class__',\n",
       " '__contains__',\n",
       " '__delattr__',\n",
       " '__dir__',\n",
       " '__doc__',\n",
       " '__eq__',\n",
       " '__format__',\n",
       " '__ge__',\n",
       " '__getattribute__',\n",
       " '__getitem__',\n",
       " '__getnewargs__',\n",
       " '__gt__',\n",
       " '__hash__',\n",
       " '__init__',\n",
       " '__init_subclass__',\n",
       " '__iter__',\n",
       " '__le__',\n",
       " '__len__',\n",
       " '__lt__',\n",
       " '__mul__',\n",
       " '__ne__',\n",
       " '__new__',\n",
       " '__reduce__',\n",
       " '__reduce_ex__',\n",
       " '__repr__',\n",
       " '__rmul__',\n",
       " '__setattr__',\n",
       " '__sizeof__',\n",
       " '__str__',\n",
       " '__subclasshook__',\n",
       " 'count',\n",
       " 'index']"
      ]
     },
     "execution_count": 12,
     "metadata": {},
     "output_type": "execute_result"
    }
   ],
   "source": [
    "dir(tuple)  "
   ]
  },
  {
   "cell_type": "markdown",
   "id": "upset-departure",
   "metadata": {},
   "source": [
    "## Memory Efficient"
   ]
  },
  {
   "cell_type": "markdown",
   "id": "virtual-balloon",
   "metadata": {},
   "source": [
    "The tuples are more memory efficient than the list because tuple has less built-in operations. Lists are suitable for the fewer elements whereas tuples are a bit faster than the list for the huge amount of data."
   ]
  },
  {
   "cell_type": "code",
   "execution_count": 13,
   "id": "committed-cleaner",
   "metadata": {},
   "outputs": [
    {
     "name": "stdout",
     "output_type": "stream",
     "text": [
      "Tuple size = 168\n",
      "List size = 216\n"
     ]
    }
   ],
   "source": [
    "Tuple = (1,2,3,4,5,6,7,8,9,0,5485,87525,955,3343,53234,6423,623456,234535)  \n",
    "List = [1,2,3,4,5,6,7,8,9,0,78,34,43,32,43,55,54,212,642,533,43434,54532 ]  \n",
    "print('Tuple size =', Tuple.__sizeof__())       # Tuple size = 52  \n",
    "print('List size =', List.__sizeof__())"
   ]
  },
  {
   "cell_type": "markdown",
   "id": "nutritional-corrections",
   "metadata": {},
   "source": [
    "## Conclusion"
   ]
  },
  {
   "cell_type": "markdown",
   "id": "objective-saver",
   "metadata": {},
   "source": [
    "In Some cases, lists might seem more useful than tuples. But tuples are important data structures of the Python. Tuples are commonly used for unchangeable data or we can say that the data will be \"write- protected\" in the tuples. Tuples sends the indication to the Python interpreter the data should not change in the future."
   ]
  },
  {
   "cell_type": "markdown",
   "id": "handed-somalia",
   "metadata": {},
   "source": [
    "- We can use tuple the same as a dictionary without using keys to store the data. For example-"
   ]
  },
  {
   "cell_type": "code",
   "execution_count": 14,
   "id": "canadian-salon",
   "metadata": {},
   "outputs": [],
   "source": [
    "    list1 = [(101, \"Mike\", 24),(102, 'Hussey', 26),(103, 'David', 27),(104,  'Warner', 29)]  "
   ]
  },
  {
   "cell_type": "markdown",
   "id": "difficult-housing",
   "metadata": {},
   "source": [
    "- Tuples can use for the dictionary keys because these are hashable and immutable whereas lists can't use a keys in dictionary."
   ]
  },
  {
   "cell_type": "code",
   "execution_count": 15,
   "id": "pursuant-skiing",
   "metadata": {},
   "outputs": [
    {
     "ename": "TypeError",
     "evalue": "unhashable type: 'list'",
     "output_type": "error",
     "traceback": [
      "\u001b[0;31m---------------------------------------------------------------------------\u001b[0m",
      "\u001b[0;31mTypeError\u001b[0m                                 Traceback (most recent call last)",
      "\u001b[0;32m<ipython-input-15-6e18d171e87d>\u001b[0m in \u001b[0;36m<module>\u001b[0;34m\u001b[0m\n\u001b[1;32m      1\u001b[0m \u001b[0mdict\u001b[0m \u001b[0;34m=\u001b[0m \u001b[0;34m{\u001b[0m\u001b[0;34m(\u001b[0m\u001b[0;34m\"Mike\"\u001b[0m\u001b[0;34m,\u001b[0m\u001b[0;36m22\u001b[0m\u001b[0;34m)\u001b[0m\u001b[0;34m:\u001b[0m\u001b[0;36m24000\u001b[0m\u001b[0;34m}\u001b[0m    \u001b[0;31m#valid dictionary\u001b[0m\u001b[0;34m\u001b[0m\u001b[0;34m\u001b[0m\u001b[0m\n\u001b[0;32m----> 2\u001b[0;31m \u001b[0mdict\u001b[0m \u001b[0;34m=\u001b[0m \u001b[0;34m{\u001b[0m\u001b[0;34m[\u001b[0m\u001b[0;34m\"Peter\"\u001b[0m\u001b[0;34m,\u001b[0m\u001b[0;36m26\u001b[0m\u001b[0;34m]\u001b[0m\u001b[0;34m:\u001b[0m\u001b[0;36m25000\u001b[0m\u001b[0;34m}\u001b[0m   \u001b[0;31m#Invalid dictionary\u001b[0m\u001b[0;34m\u001b[0m\u001b[0;34m\u001b[0m\u001b[0m\n\u001b[0m",
      "\u001b[0;31mTypeError\u001b[0m: unhashable type: 'list'"
     ]
    }
   ],
   "source": [
    "    dict = {(\"Mike\",22):24000}    #valid dictionary  \n",
    "    dict = {[\"Peter\",26]:25000}   #Invalid dictionary  "
   ]
  }
 ],
 "metadata": {
  "kernelspec": {
   "display_name": "Python 3",
   "language": "python",
   "name": "python3"
  },
  "language_info": {
   "codemirror_mode": {
    "name": "ipython",
    "version": 3
   },
   "file_extension": ".py",
   "mimetype": "text/x-python",
   "name": "python",
   "nbconvert_exporter": "python",
   "pygments_lexer": "ipython3",
   "version": "3.7.10"
  }
 },
 "nbformat": 4,
 "nbformat_minor": 5
}
